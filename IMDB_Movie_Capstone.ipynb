{
 "cells": [
  {
   "cell_type": "markdown",
   "id": "36a740fd",
   "metadata": {},
   "source": [
    "# Importing the required Library"
   ]
  },
  {
   "cell_type": "code",
   "execution_count": 1,
   "id": "0f23a54c",
   "metadata": {},
   "outputs": [],
   "source": [
    "import pandas as pd"
   ]
  },
  {
   "cell_type": "markdown",
   "id": "83a07558",
   "metadata": {},
   "source": [
    "# Reading the DataSet"
   ]
  },
  {
   "cell_type": "code",
   "execution_count": 2,
   "id": "0e3819a7",
   "metadata": {},
   "outputs": [],
   "source": [
    "df = pd.read_csv(r\"C:\\Users\\kanna\\AppData\\Local\\IMDBMovie.csv\")"
   ]
  },
  {
   "cell_type": "code",
   "execution_count": 3,
   "id": "40eb2e5f",
   "metadata": {},
   "outputs": [
    {
     "data": {
      "text/html": [
       "<div>\n",
       "<style scoped>\n",
       "    .dataframe tbody tr th:only-of-type {\n",
       "        vertical-align: middle;\n",
       "    }\n",
       "\n",
       "    .dataframe tbody tr th {\n",
       "        vertical-align: top;\n",
       "    }\n",
       "\n",
       "    .dataframe thead th {\n",
       "        text-align: right;\n",
       "    }\n",
       "</style>\n",
       "<table border=\"1\" class=\"dataframe\">\n",
       "  <thead>\n",
       "    <tr style=\"text-align: right;\">\n",
       "      <th></th>\n",
       "      <th>ID</th>\n",
       "      <th>Title</th>\n",
       "      <th>Genre</th>\n",
       "      <th>Director</th>\n",
       "      <th>Year</th>\n",
       "      <th>Runtime_minutes</th>\n",
       "      <th>Rating</th>\n",
       "      <th>Votes</th>\n",
       "      <th>Revenue_millions</th>\n",
       "    </tr>\n",
       "  </thead>\n",
       "  <tbody>\n",
       "    <tr>\n",
       "      <th>0</th>\n",
       "      <td>1</td>\n",
       "      <td>Guardians of the Galaxy</td>\n",
       "      <td>Action</td>\n",
       "      <td>James Gunn</td>\n",
       "      <td>2014</td>\n",
       "      <td>121</td>\n",
       "      <td>8.1</td>\n",
       "      <td>757074</td>\n",
       "      <td>333.13</td>\n",
       "    </tr>\n",
       "    <tr>\n",
       "      <th>1</th>\n",
       "      <td>2</td>\n",
       "      <td>Prometheus</td>\n",
       "      <td>Adventure</td>\n",
       "      <td>Ridley Scott</td>\n",
       "      <td>2012</td>\n",
       "      <td>124</td>\n",
       "      <td>7.0</td>\n",
       "      <td>485820</td>\n",
       "      <td>126.46</td>\n",
       "    </tr>\n",
       "    <tr>\n",
       "      <th>2</th>\n",
       "      <td>3</td>\n",
       "      <td>Split</td>\n",
       "      <td>Horror</td>\n",
       "      <td>M. Night Shyamalan</td>\n",
       "      <td>2016</td>\n",
       "      <td>117</td>\n",
       "      <td>7.3</td>\n",
       "      <td>157606</td>\n",
       "      <td>138.12</td>\n",
       "    </tr>\n",
       "    <tr>\n",
       "      <th>3</th>\n",
       "      <td>4</td>\n",
       "      <td>Sing</td>\n",
       "      <td>Animation</td>\n",
       "      <td>Christophe Lourdelet</td>\n",
       "      <td>2016</td>\n",
       "      <td>108</td>\n",
       "      <td>7.2</td>\n",
       "      <td>60545</td>\n",
       "      <td>270.32</td>\n",
       "    </tr>\n",
       "    <tr>\n",
       "      <th>4</th>\n",
       "      <td>5</td>\n",
       "      <td>Suicide Squad</td>\n",
       "      <td>Action</td>\n",
       "      <td>David Ayer</td>\n",
       "      <td>2016</td>\n",
       "      <td>123</td>\n",
       "      <td>6.2</td>\n",
       "      <td>393727</td>\n",
       "      <td>325.02</td>\n",
       "    </tr>\n",
       "    <tr>\n",
       "      <th>...</th>\n",
       "      <td>...</td>\n",
       "      <td>...</td>\n",
       "      <td>...</td>\n",
       "      <td>...</td>\n",
       "      <td>...</td>\n",
       "      <td>...</td>\n",
       "      <td>...</td>\n",
       "      <td>...</td>\n",
       "      <td>...</td>\n",
       "    </tr>\n",
       "    <tr>\n",
       "      <th>995</th>\n",
       "      <td>996</td>\n",
       "      <td>Secret in Their Eyes</td>\n",
       "      <td>Crime</td>\n",
       "      <td>Billy Ray</td>\n",
       "      <td>2015</td>\n",
       "      <td>111</td>\n",
       "      <td>6.2</td>\n",
       "      <td>27585</td>\n",
       "      <td>NaN</td>\n",
       "    </tr>\n",
       "    <tr>\n",
       "      <th>996</th>\n",
       "      <td>997</td>\n",
       "      <td>Hostel: Part II</td>\n",
       "      <td>Horror</td>\n",
       "      <td>Eli Roth</td>\n",
       "      <td>2007</td>\n",
       "      <td>94</td>\n",
       "      <td>5.5</td>\n",
       "      <td>73152</td>\n",
       "      <td>17.54</td>\n",
       "    </tr>\n",
       "    <tr>\n",
       "      <th>997</th>\n",
       "      <td>998</td>\n",
       "      <td>Step Up 2: The Streets</td>\n",
       "      <td>Drama</td>\n",
       "      <td>Jon M. Chu</td>\n",
       "      <td>2008</td>\n",
       "      <td>98</td>\n",
       "      <td>6.2</td>\n",
       "      <td>70699</td>\n",
       "      <td>58.01</td>\n",
       "    </tr>\n",
       "    <tr>\n",
       "      <th>998</th>\n",
       "      <td>999</td>\n",
       "      <td>Search Party</td>\n",
       "      <td>Adventure</td>\n",
       "      <td>Scot Armstrong</td>\n",
       "      <td>2014</td>\n",
       "      <td>93</td>\n",
       "      <td>5.6</td>\n",
       "      <td>4881</td>\n",
       "      <td>NaN</td>\n",
       "    </tr>\n",
       "    <tr>\n",
       "      <th>999</th>\n",
       "      <td>1000</td>\n",
       "      <td>Nine Lives</td>\n",
       "      <td>Comedy</td>\n",
       "      <td>Barry Sonnenfeld</td>\n",
       "      <td>2016</td>\n",
       "      <td>87</td>\n",
       "      <td>5.3</td>\n",
       "      <td>12435</td>\n",
       "      <td>19.64</td>\n",
       "    </tr>\n",
       "  </tbody>\n",
       "</table>\n",
       "<p>1000 rows × 9 columns</p>\n",
       "</div>"
      ],
      "text/plain": [
       "       ID                    Title      Genre              Director  Year  \\\n",
       "0       1  Guardians of the Galaxy     Action            James Gunn  2014   \n",
       "1       2               Prometheus  Adventure          Ridley Scott  2012   \n",
       "2       3                    Split     Horror    M. Night Shyamalan  2016   \n",
       "3       4                     Sing  Animation  Christophe Lourdelet  2016   \n",
       "4       5            Suicide Squad     Action            David Ayer  2016   \n",
       "..    ...                      ...        ...                   ...   ...   \n",
       "995   996     Secret in Their Eyes      Crime             Billy Ray  2015   \n",
       "996   997          Hostel: Part II     Horror              Eli Roth  2007   \n",
       "997   998   Step Up 2: The Streets      Drama            Jon M. Chu  2008   \n",
       "998   999             Search Party  Adventure        Scot Armstrong  2014   \n",
       "999  1000               Nine Lives     Comedy      Barry Sonnenfeld  2016   \n",
       "\n",
       "     Runtime_minutes  Rating   Votes  Revenue_millions  \n",
       "0                121     8.1  757074            333.13  \n",
       "1                124     7.0  485820            126.46  \n",
       "2                117     7.3  157606            138.12  \n",
       "3                108     7.2   60545            270.32  \n",
       "4                123     6.2  393727            325.02  \n",
       "..               ...     ...     ...               ...  \n",
       "995              111     6.2   27585               NaN  \n",
       "996               94     5.5   73152             17.54  \n",
       "997               98     6.2   70699             58.01  \n",
       "998               93     5.6    4881               NaN  \n",
       "999               87     5.3   12435             19.64  \n",
       "\n",
       "[1000 rows x 9 columns]"
      ]
     },
     "execution_count": 3,
     "metadata": {},
     "output_type": "execute_result"
    }
   ],
   "source": [
    "df"
   ]
  },
  {
   "cell_type": "markdown",
   "id": "5533adf5",
   "metadata": {},
   "source": [
    "# What is the 75th percentile in the IMDB dataset?"
   ]
  },
  {
   "cell_type": "code",
   "execution_count": 4,
   "id": "e9cd9dec",
   "metadata": {},
   "outputs": [
    {
     "data": {
      "text/plain": [
       "7.4"
      ]
     },
     "execution_count": 4,
     "metadata": {},
     "output_type": "execute_result"
    }
   ],
   "source": [
    "df[\"Rating\"].quantile(q=0.75)"
   ]
  },
  {
   "cell_type": "markdown",
   "id": "1becfcdf",
   "metadata": {},
   "source": [
    "# How many NA values are there in the field ‘Revenue’?"
   ]
  },
  {
   "cell_type": "code",
   "execution_count": 5,
   "id": "3b378d42",
   "metadata": {},
   "outputs": [
    {
     "data": {
      "text/plain": [
       "ID                    0\n",
       "Title                 0\n",
       "Genre                 0\n",
       "Director              0\n",
       "Year                  0\n",
       "Runtime_minutes       0\n",
       "Rating                0\n",
       "Votes                 0\n",
       "Revenue_millions    128\n",
       "dtype: int64"
      ]
     },
     "execution_count": 5,
     "metadata": {},
     "output_type": "execute_result"
    }
   ],
   "source": [
    "df.isna().sum()"
   ]
  },
  {
   "cell_type": "markdown",
   "id": "e38f9fdc",
   "metadata": {},
   "source": [
    "# How many movies have revenue higher than 75 million?"
   ]
  },
  {
   "cell_type": "code",
   "execution_count": 6,
   "id": "b1b0ef96",
   "metadata": {},
   "outputs": [
    {
     "data": {
      "text/plain": [
       "318"
      ]
     },
     "execution_count": 6,
     "metadata": {},
     "output_type": "execute_result"
    }
   ],
   "source": [
    "df[df['Revenue_millions'] > 75].shape[0]"
   ]
  },
  {
   "cell_type": "markdown",
   "id": "1f714b57",
   "metadata": {},
   "source": [
    "# How many movies have revenue greater than 50 million but rating less than 7?"
   ]
  },
  {
   "cell_type": "code",
   "execution_count": 7,
   "id": "e05ae0f3",
   "metadata": {},
   "outputs": [
    {
     "data": {
      "text/plain": [
       "211"
      ]
     },
     "execution_count": 7,
     "metadata": {},
     "output_type": "execute_result"
    }
   ],
   "source": [
    "df[(df[\"Revenue_millions\"] > 50) & (df[\"Rating\"] < 7)].shape[0]"
   ]
  },
  {
   "cell_type": "markdown",
   "id": "07f92e45",
   "metadata": {},
   "source": [
    "# What is the total revenue generated by movies in the year 2015?"
   ]
  },
  {
   "cell_type": "code",
   "execution_count": 8,
   "id": "d6d5132d",
   "metadata": {},
   "outputs": [
    {
     "data": {
      "text/plain": [
       "8854.119999999999"
      ]
     },
     "execution_count": 8,
     "metadata": {},
     "output_type": "execute_result"
    }
   ],
   "source": [
    "df[df[\"Year\"]==2015][\"Revenue_millions\"].sum()"
   ]
  },
  {
   "cell_type": "markdown",
   "id": "377ccf26",
   "metadata": {},
   "source": [
    "# What is the average rating for the genre adventure in the year 2015?"
   ]
  },
  {
   "cell_type": "code",
   "execution_count": 9,
   "id": "c2aa1af3",
   "metadata": {},
   "outputs": [
    {
     "data": {
      "text/plain": [
       "6.799999999999999"
      ]
     },
     "execution_count": 9,
     "metadata": {},
     "output_type": "execute_result"
    }
   ],
   "source": [
    "df[(df[\"Year\"]==2015) & (df[\"Genre\"]==\"Adventure\")][\"Rating\"].mean()"
   ]
  },
  {
   "cell_type": "markdown",
   "id": "2e6db4dd",
   "metadata": {},
   "source": [
    "# What is the average duration of movies in rows 75 to 150? Please note that the rows in python start from 0."
   ]
  },
  {
   "cell_type": "code",
   "execution_count": 10,
   "id": "c19d1194",
   "metadata": {},
   "outputs": [
    {
     "data": {
      "text/plain": [
       "127.61333333333333"
      ]
     },
     "execution_count": 10,
     "metadata": {},
     "output_type": "execute_result"
    }
   ],
   "source": [
    "df.iloc[75:150][\"Runtime_minutes\"].mean()"
   ]
  },
  {
   "cell_type": "markdown",
   "id": "4388e77c",
   "metadata": {},
   "source": [
    "# Which year generated the highest revenue?"
   ]
  },
  {
   "cell_type": "code",
   "execution_count": 11,
   "id": "f23db67c",
   "metadata": {},
   "outputs": [
    {
     "data": {
      "text/plain": [
       "Year\n",
       "2006     3624.46\n",
       "2007     4306.23\n",
       "2008     5053.22\n",
       "2009     5292.26\n",
       "2010     5989.65\n",
       "2011     5431.96\n",
       "2012     6910.29\n",
       "2013     7666.72\n",
       "2014     7997.40\n",
       "2015     8854.12\n",
       "2016    11211.65\n",
       "Name: Revenue_millions, dtype: float64"
      ]
     },
     "execution_count": 11,
     "metadata": {},
     "output_type": "execute_result"
    }
   ],
   "source": [
    "df.groupby(\"Year\")[\"Revenue_millions\"].sum() "
   ]
  },
  {
   "cell_type": "markdown",
   "id": "a3788e77",
   "metadata": {},
   "source": [
    "# How many movies with the genres ‘Adventure’, ‘Action’, ‘Horror’, and ‘Crime’ exist in the IMDB dataset?"
   ]
  },
  {
   "cell_type": "code",
   "execution_count": 12,
   "id": "989234d8",
   "metadata": {},
   "outputs": [
    {
     "data": {
      "text/plain": [
       "485"
      ]
     },
     "execution_count": 12,
     "metadata": {},
     "output_type": "execute_result"
    }
   ],
   "source": [
    "df[\"Genre\"].isin([\"Adventure\", \"Action\", \"Horror\",\"Crime\"]).sum()"
   ]
  },
  {
   "cell_type": "markdown",
   "id": "57b71309",
   "metadata": {},
   "source": [
    "# Create a genre-level report with metrics average rating, the average number of votes, and average revenue. What is the average rating of the ‘Horror’ genre? (Round to 2 decimal places)"
   ]
  },
  {
   "cell_type": "code",
   "execution_count": 13,
   "id": "1b6c65e0",
   "metadata": {},
   "outputs": [
    {
     "data": {
      "text/plain": [
       "Genre\n",
       "Action       6.59\n",
       "Adventure    6.91\n",
       "Animation    7.32\n",
       "Biography    7.32\n",
       "Comedy       6.49\n",
       "Crime        6.81\n",
       "Drama        6.95\n",
       "Fantasy      5.85\n",
       "Horror       5.87\n",
       "Mystery      6.88\n",
       "Romance      6.60\n",
       "Sci-Fi       4.97\n",
       "Thriller     5.96\n",
       "Name: Rating, dtype: float64"
      ]
     },
     "execution_count": 13,
     "metadata": {},
     "output_type": "execute_result"
    }
   ],
   "source": [
    "df.groupby(\"Genre\").agg({'Rating': 'mean','Votes': 'mean','Revenue_millions': 'mean'})[\"Rating\"].round(2)\n"
   ]
  },
  {
   "cell_type": "markdown",
   "id": "02690d73",
   "metadata": {},
   "source": [
    "# Create a report to showcase the revenue of each movie, as % revenue concerning the total revenue of the respective genre and year of the movie.\n",
    "\n",
    "For example if a movie ‘ABC’ has genre ‘Action’ and released in 2015, then % revenue will be\n",
    "\n",
    "(Revenue of the movie ‘ABC’ *100)/ (Total revenue of the genre ‘Action’ in 2015)\n",
    "What is the % revenue of the movie ‘Split’ in its respective genre and year?\n",
    "\n",
    "Hint:\n",
    "\n",
    "Create a dataset which has revenue for each genre within a year Rename the column as ‘Total_revenue’ Merge the dataset with cleaned dataset so that total revenue is mapped to each movie Just apply percent formula using apply(lamda) Revenue of movie * 100 / (Total revenue of genre and year)"
   ]
  },
  {
   "cell_type": "code",
   "execution_count": 14,
   "id": "5c8db4f3",
   "metadata": {},
   "outputs": [],
   "source": [
    "genre_year_revenue = df.groupby(['Genre', 'Year'])['Revenue_millions'].sum().reset_index()\n",
    "genre_year_revenue.rename(columns={'Revenue_millions': 'Total_revenue'}, inplace=True)\n"
   ]
  },
  {
   "cell_type": "code",
   "execution_count": 15,
   "id": "194044c9",
   "metadata": {},
   "outputs": [],
   "source": [
    "merged_data = pd.merge(df, genre_year_revenue, on=['Genre', 'Year'])\n"
   ]
  },
  {
   "cell_type": "code",
   "execution_count": 16,
   "id": "8952b848",
   "metadata": {},
   "outputs": [],
   "source": [
    "merged_data['Percentage_revenue'] = (merged_data['Revenue_millions'] * 100) / merged_data['Total_revenue']\n"
   ]
  },
  {
   "cell_type": "markdown",
   "id": "2d3e31fb",
   "metadata": {},
   "source": [
    "Query the merged dataset for ‘Split’ movie"
   ]
  },
  {
   "cell_type": "code",
   "execution_count": 17,
   "id": "0f92e181",
   "metadata": {},
   "outputs": [
    {
     "data": {
      "text/plain": [
       "29.42041024985622"
      ]
     },
     "execution_count": 17,
     "metadata": {},
     "output_type": "execute_result"
    }
   ],
   "source": [
    "merged_data.loc[merged_data['Title'] == 'Split', 'Percentage_revenue'].values[0]\n"
   ]
  },
  {
   "cell_type": "code",
   "execution_count": null,
   "id": "551da2ad",
   "metadata": {},
   "outputs": [],
   "source": []
  }
 ],
 "metadata": {
  "kernelspec": {
   "display_name": "Python 3 (ipykernel)",
   "language": "python",
   "name": "python3"
  },
  "language_info": {
   "codemirror_mode": {
    "name": "ipython",
    "version": 3
   },
   "file_extension": ".py",
   "mimetype": "text/x-python",
   "name": "python",
   "nbconvert_exporter": "python",
   "pygments_lexer": "ipython3",
   "version": "3.9.13"
  }
 },
 "nbformat": 4,
 "nbformat_minor": 5
}
